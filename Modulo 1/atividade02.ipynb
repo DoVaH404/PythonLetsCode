{
 "cells": [
  {
   "cell_type": "code",
   "execution_count": 29,
   "metadata": {
    "colab": {
     "base_uri": "https://localhost:8080/"
    },
    "id": "ZddEFog6_hFy",
    "outputId": "fd6ff904-073e-47a1-8421-8aa2e7e63496"
   },
   "outputs": [
    {
     "name": "stdout",
     "output_type": "stream",
     "text": [
      "Insira uma idade entre 0 e 150: 152\n",
      "Valor digitado errado, digite uma idade entre 0 e 150: 15\n",
      "Insira um salário maior que 0: 0\n",
      "Valor digitado errado, digite um valor maior que 0: 15\n",
      "Insira o seu sexo entre M, F ou Outro: 15\n",
      "Valor digitado errado, digite entre M, F ou Outro: Outro\n"
     ]
    }
   ],
   "source": [
    "\"\"\"\n",
    "\n",
    "Faça um programa que leia a validade das informações:\n",
    "\n",
    "a. Idade: entre 0 e 150;\n",
    "b. Salário: maior que 0;\n",
    "c. Sexo: M, F ou Outro;\n",
    "\n",
    "\"\"\"\n",
    "\n",
    "idade = input('Insira uma idade entre 0 e 150: ')\n",
    "while int(idade) <= 0 or int(idade) >= 151:\n",
    "  idade = input('Valor digitado errado, digite uma idade entre 0 e 150: ')\n",
    "\n",
    "salario = input('Insira um salário maior que 0: ')\n",
    "while float(salario) <= 0:\n",
    "  salario = input('Valor digitado errado, digite um valor maior que 0: ')\n",
    "\n",
    "sexo = input('Insira o seu sexo entre M, F ou Outro: ')\n",
    "while str(sexo) != 'M' and str(sexo) != 'F' and str(sexo) != 'Outro':\n",
    "  sexo = input('Valor digitado errado, digite entre M, F ou Outro: ')\n"
   ]
  }
 ],
 "metadata": {
  "colab": {
   "collapsed_sections": [],
   "provenance": []
  },
  "kernelspec": {
   "display_name": "Python 3 (ipykernel)",
   "language": "python",
   "name": "python3"
  },
  "language_info": {
   "codemirror_mode": {
    "name": "ipython",
    "version": 3
   },
   "file_extension": ".py",
   "mimetype": "text/x-python",
   "name": "python",
   "nbconvert_exporter": "python",
   "pygments_lexer": "ipython3",
   "version": "3.10.6"
  }
 },
 "nbformat": 4,
 "nbformat_minor": 1
}
