{
 "cells": [
  {
   "cell_type": "code",
   "execution_count": 57,
   "metadata": {
    "colab": {
     "base_uri": "https://localhost:8080/"
    },
    "id": "ZddEFog6_hFy",
    "outputId": "bf5f80d0-2a52-4c44-cbc8-0c3d957ac4db"
   },
   "outputs": [
    {
     "name": "stdout",
     "output_type": "stream",
     "text": [
      "Essa é a tabuada do 9!\n",
      " \n",
      "9  *  1  =  9\n",
      "9  *  2  =  18\n",
      "9  *  3  =  27\n",
      "9  *  4  =  36\n",
      "9  *  5  =  45\n",
      "9  *  6  =  54\n",
      "9  *  7  =  63\n",
      "9  *  8  =  72\n",
      "9  *  9  =  81\n",
      "9  *  10  =  90\n"
     ]
    }
   ],
   "source": [
    "\"\"\"\n",
    "\n",
    "Faça um programa que imprima a tabuada do 9 (de 9*1 a 9*10) usando loops.\n",
    "\n",
    "\"\"\"\n",
    "print('Essa é a tabuada do 9!')\n",
    "print(\" \")\n",
    "tabuada = 9 #SE QUISER PODE COLOCAR UM INPUT E TER A TABUADA QUE VOCÊ DESEJAR Ex:. tabuada = int( input( 'Qual tabuada você deseja ver? ' ) )\n",
    "contador = 0\n",
    "\n",
    "while contador < 10:\n",
    "  contador = contador + 1\n",
    "  print(tabuada, \" * \", contador,\" = \",  contador * tabuada)\n",
    "\n",
    "\n"
   ]
  },
  {
   "cell_type": "code",
   "execution_count": null,
   "metadata": {
    "id": "T2eZP4ud5U1Q"
   },
   "outputs": [],
   "source": []
  }
 ],
 "metadata": {
  "colab": {
   "collapsed_sections": [],
   "provenance": []
  },
  "kernelspec": {
   "display_name": "Python 3 (ipykernel)",
   "language": "python",
   "name": "python3"
  },
  "language_info": {
   "codemirror_mode": {
    "name": "ipython",
    "version": 3
   },
   "file_extension": ".py",
   "mimetype": "text/x-python",
   "name": "python",
   "nbconvert_exporter": "python",
   "pygments_lexer": "ipython3",
   "version": "3.10.6"
  }
 },
 "nbformat": 4,
 "nbformat_minor": 1
}
