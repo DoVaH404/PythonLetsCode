{
 "cells": [
  {
   "cell_type": "code",
   "execution_count": 47,
   "metadata": {
    "colab": {
     "base_uri": "https://localhost:8080/"
    },
    "id": "ZddEFog6_hFy",
    "outputId": "6c4568a9-05f6-47b6-a673-ad3496d83482"
   },
   "outputs": [
    {
     "name": "stdout",
     "output_type": "stream",
     "text": [
      "Responda as perguntas com SIM ou NÃO\n",
      " \n",
      "Mora perto da vítima?: não\n",
      "Já trabalhou com a vítima?: SIM\n",
      "Telefonou para a vítima?: SIM\n",
      "Esteve no local do crime?: IM\n",
      "Devia para a vítima?: SIM\n",
      "Cumplice\n"
     ]
    }
   ],
   "source": [
    "\"\"\"\n",
    "\n",
    "Vamos fazer um programa para verificar quem é o assassino de um crime.\n",
    "Para descobrir o assassino, a polícia faz um pequeno questionário com 5\n",
    "perguntas onde a resposta só pode ser sim ou não:\n",
    "\n",
    "a. Mora perto da vítima?\n",
    "b. Já trabalhou com a vítima?\n",
    "c. Telefonou para a vítima?\n",
    "d. Esteve no local do crime?\n",
    "e. Devia para a vítima?\n",
    "\n",
    "Cada resposta sim dá um ponto para o suspeito. A polícia considera que os\n",
    "suspeitos com 5 pontos são os assassinos, com 4 a 3 pontos são cúmplices e\n",
    "2 pontos são apenas suspeitos, necessitando outras investigações. Valores\n",
    "iguais ou abaixo de 1 são liberados.\n",
    "\n",
    "\"\"\"\n",
    "\n",
    "contador = 0\n",
    "\n",
    "print('Responda as perguntas com SIM ou NÃO')\n",
    "print(' ')\n",
    "\n",
    "pergunta_a = input('Mora perto da vítima?: ')\n",
    "pergunta_b = input('Já trabalhou com a vítima?: ')\n",
    "pergunta_c = input('Telefonou para a vítima?: ')\n",
    "pergunta_d = input('Esteve no local do crime?: ')\n",
    "pergunta_e = input('Devia para a vítima?: ')\n",
    "\n",
    "if str (pergunta_a) == 'SIM':\n",
    "  contador = contador + 1\n",
    "if str (pergunta_b) == 'SIM':\n",
    "  contador = contador + 1\n",
    "if str (pergunta_c) == 'SIM':\n",
    "  contador = contador + 1\n",
    "if str (pergunta_d) == 'SIM':\n",
    "  contador = contador + 1\n",
    "if str (pergunta_e) == 'SIM':\n",
    "  contador = contador + 1\n",
    "elif contador == 1:\n",
    "      print('Liberado')\n",
    "if contador == 2:\n",
    "      print('Suspeito')\n",
    "if contador == 3 or contador == 4:\n",
    "      print('Cumplice')\n",
    "if contador == 5:\n",
    "      print('Assasino')\n",
    "\n"
   ]
  },
  {
   "cell_type": "code",
   "execution_count": null,
   "metadata": {
    "id": "T2eZP4ud5U1Q"
   },
   "outputs": [],
   "source": []
  }
 ],
 "metadata": {
  "colab": {
   "collapsed_sections": [],
   "provenance": []
  },
  "kernelspec": {
   "display_name": "Python 3 (ipykernel)",
   "language": "python",
   "name": "python3"
  },
  "language_info": {
   "codemirror_mode": {
    "name": "ipython",
    "version": 3
   },
   "file_extension": ".py",
   "mimetype": "text/x-python",
   "name": "python",
   "nbconvert_exporter": "python",
   "pygments_lexer": "ipython3",
   "version": "3.10.6"
  }
 },
 "nbformat": 4,
 "nbformat_minor": 1
}
