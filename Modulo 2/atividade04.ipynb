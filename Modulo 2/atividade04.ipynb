{
 "cells": [
  {
   "cell_type": "code",
   "execution_count": 8,
   "metadata": {
    "colab": {
     "base_uri": "https://localhost:8080/"
    },
    "id": "ZddEFog6_hFy",
    "outputId": "febabc8d-0c03-4f0f-9ca5-fee462728786"
   },
   "outputs": [
    {
     "name": "stdout",
     "output_type": "stream",
     "text": [
      "{'janeiro': 31, 'fevereiro': 30, 'março': 31, 'abril': 30, 'maio': 31, 'junho': 30, 'julho': 31, 'agosto': 31, 'setembro': 30, 'outubro': 31, 'novembro': 30, 'dezembro': 31}\n"
     ]
    }
   ],
   "source": [
    "\"\"\"\n",
    "\n",
    "Crie um dicionário cujas chaves são os meses do ano e os valores são a\n",
    "duração (em dias) de cada mês.\n",
    "\n",
    "\n",
    "\"\"\"\n",
    "\n",
    "disc_ano_mes_dia = {\n",
    "    \n",
    "    \"janeiro\": 31,\n",
    "    \"fevereiro\": 30,\n",
    "    \"março\": 31,\n",
    "    \"abril\": 30,\n",
    "    \"maio\": 31,\n",
    "    \"junho\": 30,\n",
    "    \"julho\": 31,\n",
    "    \"agosto\": 31,\n",
    "    \"setembro\": 30,\n",
    "    \"outubro\": 31,\n",
    "    \"novembro\": 30,\n",
    "    \"dezembro\": 31,\n",
    "    \n",
    "}\n",
    "\n",
    "print(disc_ano_mes_dia)\n",
    "\n",
    "\n",
    "\n",
    "\n",
    "\n",
    "\n",
    "\n"
   ]
  },
  {
   "cell_type": "code",
   "execution_count": null,
   "metadata": {
    "id": "T2eZP4ud5U1Q"
   },
   "outputs": [],
   "source": []
  }
 ],
 "metadata": {
  "colab": {
   "collapsed_sections": [],
   "provenance": []
  },
  "kernelspec": {
   "display_name": "Python 3 (ipykernel)",
   "language": "python",
   "name": "python3"
  },
  "language_info": {
   "codemirror_mode": {
    "name": "ipython",
    "version": 3
   },
   "file_extension": ".py",
   "mimetype": "text/x-python",
   "name": "python",
   "nbconvert_exporter": "python",
   "pygments_lexer": "ipython3",
   "version": "3.10.6"
  }
 },
 "nbformat": 4,
 "nbformat_minor": 1
}
