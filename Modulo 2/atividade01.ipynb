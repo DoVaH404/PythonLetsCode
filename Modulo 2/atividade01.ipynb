{
 "cells": [
  {
   "cell_type": "code",
   "execution_count": 3,
   "metadata": {
    "colab": {
     "base_uri": "https://localhost:8080/"
    },
    "id": "ZddEFog6_hFy",
    "outputId": "a88c27a5-a12e-427a-f5b3-f4812988d41e"
   },
   "outputs": [
    {
     "name": "stdout",
     "output_type": "stream",
     "text": [
      "2 6 10 16 30 "
     ]
    }
   ],
   "source": [
    "\"\"\"\n",
    "\n",
    "Faça um programa que olhe todos os itens de uma lista e diga quantos deles\n",
    "são pares\n",
    "\n",
    "\"\"\"\n",
    "\n",
    "lista = [1, 2, 5, 6, 9, 10, 15, 16, 27, 30]\n",
    "\n",
    "\n",
    "for i in lista:\n",
    "  if i % 2 == 0:\n",
    "    print(i)\n",
    "\n",
    "\n",
    "\n",
    "\n"
   ]
  },
  {
   "cell_type": "code",
   "execution_count": null,
   "metadata": {
    "id": "T2eZP4ud5U1Q"
   },
   "outputs": [],
   "source": []
  }
 ],
 "metadata": {
  "colab": {
   "collapsed_sections": [],
   "provenance": []
  },
  "kernelspec": {
   "display_name": "Python 3 (ipykernel)",
   "language": "python",
   "name": "python3"
  },
  "language_info": {
   "name": "python"
  }
 },
 "nbformat": 4,
 "nbformat_minor": 1
}
