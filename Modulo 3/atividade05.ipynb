{
 "cells": [
  {
   "cell_type": "code",
   "execution_count": 38,
   "id": "77097bd8",
   "metadata": {},
   "outputs": [
    {
     "name": "stdout",
     "output_type": "stream",
     "text": [
      "Data do primeiro caso de Covid no Brasil: 22 / 01 / 2020\n"
     ]
    }
   ],
   "source": [
    "\"\"\"\n",
    "\n",
    "Em 2019 surgiram os primeiros casos de COVID-19 que se alastrou pelo\n",
    "mundo resultando numa pandemia. A proposta deste exercício é utilizar\n",
    "uma API com informações de COVID-19 do mundo todo desde o início da\n",
    "proliferação e descobrir que dia o Brasil confirmou o primeiro caso de\n",
    "Coronavírus.\n",
    "Para fazer isso, utilize a URL \"https://api.covid19api.com/country/brazil\" em seu\n",
    "código. Ela retorna uma lista de dicionários, onde cada dicionário traz\n",
    "informações através das chaves:\n",
    "\"ID\", \"Country\", \"CountryCode\", \"Province\", \"City\",\n",
    "\"CityCode\",\"Lat\",\"Lon\",\"Confirmed\",\"Deaths\", \"Recovered\", \"Active\" e \"Date\".\n",
    "Utilize essas informações e retorne a data em que o Brasil confirmou o\n",
    "primeiro caso de COVID.\n",
    "\n",
    "\"\"\"\n",
    "\n",
    "\n",
    "import requests\n",
    "\n",
    "url = 'https://api.covid19api.com/country/brazil'\n",
    "\n",
    "req = requests.get(url)\n",
    "\n",
    "dados = req.json()\n",
    "dados[0]\n",
    "\n",
    "#caso_um = dados[0]['Date'][:10]\n",
    "\n",
    "dataAno = dados[0]['Date'][:4]\n",
    "dataMês = dados[0]['Date'][5:7]\n",
    "dataDia = dados[0]['Date'][8:10]\n",
    "\n",
    "print(f\"Data do primeiro caso de Covid no Brasil: {dataDia}\",\"/\",f\"{dataMês}\",\"/\",f\"{dataAno}\")"
   ]
  },
  {
   "cell_type": "code",
   "execution_count": null,
   "id": "bdecb777",
   "metadata": {},
   "outputs": [],
   "source": []
  }
 ],
 "metadata": {
  "kernelspec": {
   "display_name": "Python 3 (ipykernel)",
   "language": "python",
   "name": "python3"
  },
  "language_info": {
   "codemirror_mode": {
    "name": "ipython",
    "version": 3
   },
   "file_extension": ".py",
   "mimetype": "text/x-python",
   "name": "python",
   "nbconvert_exporter": "python",
   "pygments_lexer": "ipython3",
   "version": "3.10.6"
  }
 },
 "nbformat": 4,
 "nbformat_minor": 5
}
