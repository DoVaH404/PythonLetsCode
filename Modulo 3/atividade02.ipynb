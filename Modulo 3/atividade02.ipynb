{
 "cells": [
  {
   "cell_type": "code",
   "execution_count": 6,
   "id": "170559e6",
   "metadata": {},
   "outputs": [
    {
     "data": {
      "text/plain": [
       "'alunos_copias.csv'"
      ]
     },
     "execution_count": 6,
     "metadata": {},
     "output_type": "execute_result"
    }
   ],
   "source": [
    "\"\"\"\n",
    "\n",
    "Para o segundo exercício, você deve criar um programa que realize uma\n",
    "cópia do arquivo \"alunos.csv\". Essa cópia deve ser um arquivo chamado\n",
    "\"alunos_copia.csv\".\n",
    "\n",
    "\"\"\"\n",
    "import shutil\n",
    "import csv\n",
    "\n",
    "alunos = r\"alunos.csv\"\n",
    "alunos_copia = r\"alunos_copias.csv\"\n",
    "\n",
    "shutil.copyfile(alunos, alunos_copia)"
   ]
  },
  {
   "cell_type": "code",
   "execution_count": null,
   "id": "bf559625",
   "metadata": {},
   "outputs": [],
   "source": []
  }
 ],
 "metadata": {
  "kernelspec": {
   "display_name": "Python 3 (ipykernel)",
   "language": "python",
   "name": "python3"
  },
  "language_info": {
   "codemirror_mode": {
    "name": "ipython",
    "version": 3
   },
   "file_extension": ".py",
   "mimetype": "text/x-python",
   "name": "python",
   "nbconvert_exporter": "python",
   "pygments_lexer": "ipython3",
   "version": "3.10.6"
  }
 },
 "nbformat": 4,
 "nbformat_minor": 5
}
