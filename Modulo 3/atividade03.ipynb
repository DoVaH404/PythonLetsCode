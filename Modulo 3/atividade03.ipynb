{
 "cells": [
  {
   "cell_type": "code",
   "execution_count": 18,
   "id": "3a35b680",
   "metadata": {},
   "outputs": [
    {
     "data": {
      "text/plain": [
       "'alunos_media.csv'"
      ]
     },
     "execution_count": 18,
     "metadata": {},
     "output_type": "execute_result"
    }
   ],
   "source": [
    "\"\"\"\n",
    "Finalmente chegamos ao último exercício dessa sequência relacionada à\n",
    "manipulação de arquivos.\n",
    "Neste exercício você deve criar um novo arquivo chamado\n",
    "\"alunos_media.csv\". Esse novo arquivo é uma cópia de \"alunos.csv\" porém\n",
    "com uma coluna a mais chamada \"Média\" que vai abrigar os valores das\n",
    "médias das provas de cada aluno da lista.\n",
    "\n",
    "\"\"\"\n",
    "import pandas as pd\n",
    "\n",
    "import shutil\n",
    "\n",
    "import csv\n",
    "\n",
    "\n",
    "alunos = r\"alunos.csv\"\n",
    "alunos_media = r\"alunos_media.csv\"\n",
    "\n",
    "shutil.copy(alunos, alunos_media)"
   ]
  },
  {
   "cell_type": "code",
   "execution_count": 19,
   "id": "7c148cb6",
   "metadata": {},
   "outputs": [],
   "source": [
    "df = pd.read_csv(\"alunos_media.csv\")\n",
    "df[\"Média\"] = \" \"\n",
    "df.to_csv(\"alunos_media.csv\")"
   ]
  },
  {
   "cell_type": "code",
   "execution_count": null,
   "id": "c3b8ba53",
   "metadata": {},
   "outputs": [],
   "source": []
  }
 ],
 "metadata": {
  "kernelspec": {
   "display_name": "Python 3 (ipykernel)",
   "language": "python",
   "name": "python3"
  },
  "language_info": {
   "codemirror_mode": {
    "name": "ipython",
    "version": 3
   },
   "file_extension": ".py",
   "mimetype": "text/x-python",
   "name": "python",
   "nbconvert_exporter": "python",
   "pygments_lexer": "ipython3",
   "version": "3.10.6"
  }
 },
 "nbformat": 4,
 "nbformat_minor": 5
}
