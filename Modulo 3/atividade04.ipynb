{
 "cells": [
  {
   "cell_type": "code",
   "execution_count": 24,
   "id": "61888d58",
   "metadata": {},
   "outputs": [
    {
     "name": "stdout",
     "output_type": "stream",
     "text": [
      "Nome: Darth Vader\n",
      "Altura: 202\n",
      "Peso: 136\n",
      "Ano de nascimento: 41.9BBY\n"
     ]
    }
   ],
   "source": [
    "\"\"\"\n",
    "\n",
    "Você conhece Star Wars? Se trata, obviamente, da famosa saga espacial\n",
    "criada por George Lucas em 1977 e que deu origem a símbolos do cinema e\n",
    "da cultura pop com o imponente vilão Darth Vader ou o simpático robô\n",
    "R2-D2. A ideia desse exercício é justamente extrair informações do\n",
    "personagem Darth Vader através de uma API de Star Wars chamada SWAPI.\n",
    "Utilize a URL \"https://swapi.dev/api/people/4/\" para fazer a requisição dos\n",
    "dados de Darth Vader e extraia as informações \"name\" (nome), \"height\"\n",
    "(altura), \"mass\" (massa) e \"birth_year\" (ano de nascimento) e imprima cada\n",
    "dado em uma linha.\n",
    "\n",
    "\"\"\"\n",
    "\n",
    "import requests\n",
    "\n",
    "url = 'https://swapi.dev/api/people/4/'\n",
    "\n",
    "req = requests.get(url)\n",
    "\n",
    "dados = req.json()\n",
    "#print(dados)\n",
    "\n",
    "vader_nome = dados['name']\n",
    "vader_altura = dados['height']\n",
    "vader_peso = dados['mass']\n",
    "vader_ano = dados['birth_year']\n",
    "\n",
    "\n",
    "print(f\"Nome: {vader_nome}\")\n",
    "print(f\"Altura: {vader_altura}\")\n",
    "print(f\"Peso: {vader_peso}\")\n",
    "print(f\"Ano de nascimento: {vader_ano}\")\n",
    "\n",
    "\n"
   ]
  },
  {
   "cell_type": "code",
   "execution_count": null,
   "id": "fb126d1f",
   "metadata": {},
   "outputs": [],
   "source": []
  }
 ],
 "metadata": {
  "kernelspec": {
   "display_name": "Python 3 (ipykernel)",
   "language": "python",
   "name": "python3"
  },
  "language_info": {
   "codemirror_mode": {
    "name": "ipython",
    "version": 3
   },
   "file_extension": ".py",
   "mimetype": "text/x-python",
   "name": "python",
   "nbconvert_exporter": "python",
   "pygments_lexer": "ipython3",
   "version": "3.10.6"
  }
 },
 "nbformat": 4,
 "nbformat_minor": 5
}
